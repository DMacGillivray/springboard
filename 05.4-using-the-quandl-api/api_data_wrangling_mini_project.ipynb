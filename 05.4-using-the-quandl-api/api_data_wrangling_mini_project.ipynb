{
 "cells": [
  {
   "cell_type": "markdown",
   "metadata": {},
   "source": [
    "# API Project"
   ]
  },
  {
   "cell_type": "markdown",
   "metadata": {},
   "source": [
    "This exercise will require you to pull some data from the Qunadl API. Qaundl is currently the most widely used aggregator of financial market data."
   ]
  },
  {
   "cell_type": "markdown",
   "metadata": {},
   "source": [
    "As a first step, you will need to register a free account on the http://www.quandl.com website."
   ]
  },
  {
   "cell_type": "markdown",
   "metadata": {},
   "source": [
    "After you register, you will be provided with a unique API key, that you should store:"
   ]
  },
  {
   "cell_type": "code",
   "execution_count": 1,
   "metadata": {
    "collapsed": true
   },
   "outputs": [],
   "source": [
    "# Store the API key as a string - according to PEP8, constants are always named in all upper case"
   ]
  },
  {
   "cell_type": "markdown",
   "metadata": {},
   "source": [
    "Qaundl has a large number of data sources, but, unfortunately, most of them require a Premium subscription. Still, there are also a good number of free datasets."
   ]
  },
  {
   "cell_type": "markdown",
   "metadata": {},
   "source": [
    "For this mini project, we will focus on equities data from the Frankfurt Stock Exhange (FSE), which is available for free. We'll try and analyze the stock prices of a company called Carl Zeiss Meditec, which manufactures tools for eye examinations, as well as medical lasers for laser eye surgery: https://www.zeiss.com/meditec/int/home.html. The company is listed under the stock ticker AFX_X."
   ]
  },
  {
   "cell_type": "markdown",
   "metadata": {},
   "source": [
    "You can find the detailed Quandl API instructions here: https://docs.quandl.com/docs/time-series"
   ]
  },
  {
   "cell_type": "markdown",
   "metadata": {},
   "source": [
    "While there is a dedicated Python package for connecting to the Quandl API, we would prefer that you use the *requests* package, which can be easily downloaded using *pip* or *conda*. You can find the documentation for the package here: http://docs.python-requests.org/en/master/ "
   ]
  },
  {
   "cell_type": "markdown",
   "metadata": {},
   "source": [
    "Finally, apart from the *requests* package, you are encouraged to not use any third party Python packages, such as *pandas*, and instead focus on what's available in the Python Standard Library (the *collections* module might come in handy: https://pymotw.com/3/collections/ ).\n",
    "Also, since you won't have access to DataFrames, you are encouraged to us Python's native data structures - preferably dictionaries, though some questions can also be answered using lists.\n",
    "You can read more on these data structures here: https://docs.python.org/3/tutorial/datastructures.html"
   ]
  },
  {
   "cell_type": "markdown",
   "metadata": {},
   "source": [
    "Keep in mind that the JSON responses you will be getting from the API map almost one-to-one to Python's dictionaries. Unfortunately, they can be very nested, so make sure you read up on indexing dictionaries in the documentation provided above."
   ]
  },
  {
   "cell_type": "code",
   "execution_count": 2,
   "metadata": {
    "collapsed": true
   },
   "outputs": [],
   "source": [
    "# First, import the relevant modules\n",
    "import requests\n",
    "import doctest\n",
    "import configparser"
   ]
  },
  {
   "cell_type": "code",
   "execution_count": 3,
   "metadata": {
    "collapsed": true
   },
   "outputs": [],
   "source": [
    "\n",
    "config = configparser.ConfigParser()\n",
    "config.read('config.ini')\n",
    "\n",
    "API_KEY = f\"{config['QUANDL']['API_KEY']}\""
   ]
  },
  {
   "cell_type": "code",
   "execution_count": 4,
   "metadata": {
    "collapsed": true
   },
   "outputs": [],
   "source": [
    "# Now, call the Quandl API and pull out a small sample of the data (only one day) to get a glimpse\n",
    "# into the JSON structure that will be returned\n",
    "stock_code = 'FSE/AFX_X' \n",
    "start_date = '2019-06-20'\n",
    "end_date = '2019-06-21'\n",
    "\n",
    "req = (f'https://www.quandl.com/api/v3/datasets/'\n",
    "       f'{stock_code}.json'\n",
    "       f'?start_date={start_date}'\n",
    "       f'&end_date={end_date}'\n",
    "       f'?api_key={API_KEY}'\n",
    "      )\n",
    "\n",
    "r = requests.get(req)"
   ]
  },
  {
   "cell_type": "markdown",
   "metadata": {},
   "source": [
    "Inspect the JSON structure of the object you created, and take note of how nested it is, as well as the overall structure\n"
   ]
  },
  {
   "cell_type": "code",
   "execution_count": 5,
   "metadata": {
    "collapsed": false
   },
   "outputs": [
    {
     "data": {
      "text/plain": [
       "{'dataset': {'id': 10095370,\n",
       "  'dataset_code': 'AFX_X',\n",
       "  'database_code': 'FSE',\n",
       "  'name': 'Carl Zeiss Meditec (AFX_X)',\n",
       "  'description': 'Stock Prices for Carl Zeiss Meditec (2019-08-08) from the Frankfurt Stock Exchange.<br><br>Trading System: Xetra<br><br>ISIN: DE0005313704',\n",
       "  'refreshed_at': '2019-08-22T22:21:55.746Z',\n",
       "  'newest_available_date': '2019-08-22',\n",
       "  'oldest_available_date': '2000-06-07',\n",
       "  'column_names': ['Date',\n",
       "   'Open',\n",
       "   'High',\n",
       "   'Low',\n",
       "   'Close',\n",
       "   'Change',\n",
       "   'Traded Volume',\n",
       "   'Turnover',\n",
       "   'Last Price of the Day',\n",
       "   'Daily Traded Units',\n",
       "   'Daily Turnover'],\n",
       "  'frequency': 'daily',\n",
       "  'type': 'Time Series',\n",
       "  'premium': False,\n",
       "  'limit': None,\n",
       "  'transform': None,\n",
       "  'column_index': None,\n",
       "  'start_date': '2019-06-20',\n",
       "  'end_date': '2019-06-21',\n",
       "  'data': [['2019-06-21',\n",
       "    88.5,\n",
       "    88.8,\n",
       "    86.85,\n",
       "    86.9,\n",
       "    None,\n",
       "    281537.0,\n",
       "    24608656.0,\n",
       "    None,\n",
       "    None,\n",
       "    None],\n",
       "   ['2019-06-20',\n",
       "    89.0,\n",
       "    90.35,\n",
       "    88.95,\n",
       "    89.2,\n",
       "    None,\n",
       "    110960.0,\n",
       "    9924531.0,\n",
       "    None,\n",
       "    None,\n",
       "    None]],\n",
       "  'collapse': None,\n",
       "  'order': None,\n",
       "  'database_id': 6129}}"
      ]
     },
     "execution_count": 5,
     "metadata": {},
     "output_type": "execute_result"
    }
   ],
   "source": [
    "r.json()"
   ]
  },
  {
   "cell_type": "markdown",
   "metadata": {},
   "source": [
    "These are your tasks for this mini project:\n",
    "\n",
    "1. Collect data from the Franfurt Stock Exchange, for the ticker AFX_X, for the whole year 2017 (keep in mind that the date format is YYYY-MM-DD).\n",
    "2. Convert the returned JSON object into a Python dictionary.\n",
    "3. Calculate what the highest and lowest opening prices were for the stock in this period.\n",
    "4. What was the largest change in any one day (based on High and Low price)?\n",
    "5. What was the largest change between any two days (based on Closing Price)?\n",
    "6. What was the average daily trading volume during this year?\n",
    "7. (Optional) What was the median trading volume during this year. (Note: you may need to implement your own function for calculating the median.)"
   ]
  },
  {
   "cell_type": "markdown",
   "metadata": {
    "collapsed": true
   },
   "source": [
    "1 Collect data from the Franfurt Stock Exchange, for the ticker AFX_X, for the whole year 2017 (keep in mind that the date format is YYYY-MM-DD)."
   ]
  },
  {
   "cell_type": "code",
   "execution_count": 6,
   "metadata": {
    "collapsed": true
   },
   "outputs": [],
   "source": [
    "stock_code = 'FSE/AFX_X' \n",
    "start_date = '2017-01-01'\n",
    "end_date = '2017-12-31'\n",
    "\n",
    "req = (f'https://www.quandl.com/api/v3/datasets/'\n",
    "       f'{stock_code}.json'\n",
    "       f'?start_date={start_date}'\n",
    "       f'&end_date={end_date}'\n",
    "       f'?api_key={API_KEY}'\n",
    "      )\n",
    "\n",
    "r = requests.get(req)"
   ]
  },
  {
   "cell_type": "markdown",
   "metadata": {},
   "source": [
    "2 Convert the returned JSON object into a Python dictionary."
   ]
  },
  {
   "cell_type": "code",
   "execution_count": 7,
   "metadata": {
    "collapsed": false
   },
   "outputs": [
    {
     "data": {
      "text/plain": [
       "dict"
      ]
     },
     "execution_count": 7,
     "metadata": {},
     "output_type": "execute_result"
    }
   ],
   "source": [
    "d = r.json()\n",
    "type(d)"
   ]
  },
  {
   "cell_type": "code",
   "execution_count": 8,
   "metadata": {
    "collapsed": false
   },
   "outputs": [
    {
     "name": "stdout",
     "output_type": "stream",
     "text": [
      "True\n",
      "True\n",
      "255\n"
     ]
    }
   ],
   "source": [
    "# Check we got the expected data range\n",
    "print(start_date == d['dataset']['start_date'])\n",
    "print(end_date == d['dataset']['end_date'])\n",
    "print(len(d['dataset']['data']))"
   ]
  },
  {
   "cell_type": "code",
   "execution_count": 9,
   "metadata": {
    "collapsed": false
   },
   "outputs": [
    {
     "data": {
      "text/plain": [
       "[['2017-12-29',\n",
       "  51.76,\n",
       "  51.94,\n",
       "  51.45,\n",
       "  51.76,\n",
       "  None,\n",
       "  34640.0,\n",
       "  1792304.0,\n",
       "  None,\n",
       "  None,\n",
       "  None],\n",
       " ['2017-12-28',\n",
       "  51.65,\n",
       "  51.82,\n",
       "  51.43,\n",
       "  51.6,\n",
       "  None,\n",
       "  40660.0,\n",
       "  2099024.0,\n",
       "  None,\n",
       "  None,\n",
       "  None]]"
      ]
     },
     "execution_count": 9,
     "metadata": {},
     "output_type": "execute_result"
    }
   ],
   "source": [
    "# Review the data list start\n",
    "d['dataset']['data'][:2]"
   ]
  },
  {
   "cell_type": "code",
   "execution_count": 10,
   "metadata": {
    "collapsed": false
   },
   "outputs": [
    {
     "data": {
      "text/plain": [
       "[['2017-01-03',\n",
       "  35.9,\n",
       "  35.93,\n",
       "  35.34,\n",
       "  35.48,\n",
       "  None,\n",
       "  70618.0,\n",
       "  2515473.0,\n",
       "  None,\n",
       "  None,\n",
       "  None],\n",
       " ['2017-01-02',\n",
       "  34.99,\n",
       "  35.94,\n",
       "  34.99,\n",
       "  35.8,\n",
       "  None,\n",
       "  44700.0,\n",
       "  1590561.0,\n",
       "  None,\n",
       "  None,\n",
       "  None]]"
      ]
     },
     "execution_count": 10,
     "metadata": {},
     "output_type": "execute_result"
    }
   ],
   "source": [
    "# Review the data list end\n",
    "d['dataset']['data'][-2:]"
   ]
  },
  {
   "cell_type": "markdown",
   "metadata": {},
   "source": [
    "### Data Structure\n",
    "Set up a data structure that looks like this:\n",
    "\n",
    " - A list of dictionaries, where a dictionary represents a trading day\n",
    " - The dictionary keys are taken from the column names, and the values are taken from the data for that particular day\n",
    " - The data will be reversed prior to creating the list of dictionaries. This will put the list into a more intuitive order where the earliest date is at the start, and the most recent date at the end\n",
    "\n",
    "**Data Structure**\n",
    "\n",
    "`[{'Date': str, 'Open': float, 'Close': float ...}, {'Date': str, 'Open': float, 'Close': float ...} ...]`"
   ]
  },
  {
   "cell_type": "code",
   "execution_count": 11,
   "metadata": {
    "collapsed": true
   },
   "outputs": [],
   "source": [
    "# Create the Data Structure daily_datas\n",
    "daily_datas = []\n",
    "# Sort the list into a more intuitive order - earliest date first, most recent last\n",
    "d['dataset']['data'].reverse()\n",
    "\n",
    "for daily_data in d['dataset']['data']:\n",
    "    daily_dict = {k:v for k,v in zip(d['dataset']['column_names'], daily_data)}\n",
    "    daily_datas.append(daily_dict)"
   ]
  },
  {
   "cell_type": "code",
   "execution_count": 12,
   "metadata": {
    "collapsed": false
   },
   "outputs": [
    {
     "data": {
      "text/plain": [
       "[{'Date': '2017-01-02',\n",
       "  'Open': 34.99,\n",
       "  'High': 35.94,\n",
       "  'Low': 34.99,\n",
       "  'Close': 35.8,\n",
       "  'Change': None,\n",
       "  'Traded Volume': 44700.0,\n",
       "  'Turnover': 1590561.0,\n",
       "  'Last Price of the Day': None,\n",
       "  'Daily Traded Units': None,\n",
       "  'Daily Turnover': None},\n",
       " {'Date': '2017-01-03',\n",
       "  'Open': 35.9,\n",
       "  'High': 35.93,\n",
       "  'Low': 35.34,\n",
       "  'Close': 35.48,\n",
       "  'Change': None,\n",
       "  'Traded Volume': 70618.0,\n",
       "  'Turnover': 2515473.0,\n",
       "  'Last Price of the Day': None,\n",
       "  'Daily Traded Units': None,\n",
       "  'Daily Turnover': None}]"
      ]
     },
     "execution_count": 12,
     "metadata": {},
     "output_type": "execute_result"
    }
   ],
   "source": [
    "# check the first part of the data structure looks OK\n",
    "daily_datas[0:2]"
   ]
  },
  {
   "cell_type": "code",
   "execution_count": 13,
   "metadata": {
    "collapsed": false
   },
   "outputs": [
    {
     "data": {
      "text/plain": [
       "[{'Date': '2017-12-28',\n",
       "  'Open': 51.65,\n",
       "  'High': 51.82,\n",
       "  'Low': 51.43,\n",
       "  'Close': 51.6,\n",
       "  'Change': None,\n",
       "  'Traded Volume': 40660.0,\n",
       "  'Turnover': 2099024.0,\n",
       "  'Last Price of the Day': None,\n",
       "  'Daily Traded Units': None,\n",
       "  'Daily Turnover': None},\n",
       " {'Date': '2017-12-29',\n",
       "  'Open': 51.76,\n",
       "  'High': 51.94,\n",
       "  'Low': 51.45,\n",
       "  'Close': 51.76,\n",
       "  'Change': None,\n",
       "  'Traded Volume': 34640.0,\n",
       "  'Turnover': 1792304.0,\n",
       "  'Last Price of the Day': None,\n",
       "  'Daily Traded Units': None,\n",
       "  'Daily Turnover': None}]"
      ]
     },
     "execution_count": 13,
     "metadata": {},
     "output_type": "execute_result"
    }
   ],
   "source": [
    "# Check the last part of the data structure looks OK\n",
    "daily_datas[-2:]"
   ]
  },
  {
   "cell_type": "markdown",
   "metadata": {},
   "source": [
    "3 Calculate what the highest and lowest opening prices were for the stock in this period."
   ]
  },
  {
   "cell_type": "code",
   "execution_count": 14,
   "metadata": {
    "collapsed": false
   },
   "outputs": [
    {
     "data": {
      "text/plain": [
       "53.11"
      ]
     },
     "execution_count": 14,
     "metadata": {},
     "output_type": "execute_result"
    }
   ],
   "source": [
    "highest_open = max(daily_data['Open'] for daily_data in daily_datas if daily_data['Open'] != None)\n",
    "highest_open"
   ]
  },
  {
   "cell_type": "code",
   "execution_count": 15,
   "metadata": {
    "collapsed": false
   },
   "outputs": [
    {
     "data": {
      "text/plain": [
       "34.0"
      ]
     },
     "execution_count": 15,
     "metadata": {},
     "output_type": "execute_result"
    }
   ],
   "source": [
    "lowest_open = min(daily_data['Open'] for daily_data in daily_datas if daily_data['Open'] != None)\n",
    "lowest_open"
   ]
  },
  {
   "cell_type": "markdown",
   "metadata": {},
   "source": [
    "4 What was the largest change in any one day (based on High and Low price)?"
   ]
  },
  {
   "cell_type": "code",
   "execution_count": 16,
   "metadata": {
    "collapsed": false
   },
   "outputs": [
    {
     "data": {
      "text/plain": [
       "2.8100000000000023"
      ]
     },
     "execution_count": 16,
     "metadata": {},
     "output_type": "execute_result"
    }
   ],
   "source": [
    "max_daily_change = max(daily_data['High'] - daily_data['Low'] for  \n",
    "                       daily_data in \n",
    "                       daily_datas if\n",
    "                       all([bool(daily_data['High']), bool(daily_data['Low'])])) # bool(None) False - If all True, calculate\n",
    "max_daily_change"
   ]
  },
  {
   "cell_type": "markdown",
   "metadata": {},
   "source": [
    "5 What was the largest change between any two days (based on Closing Price)?"
   ]
  },
  {
   "cell_type": "code",
   "execution_count": 17,
   "metadata": {
    "collapsed": false
   },
   "outputs": [
    {
     "data": {
      "text/plain": [
       "2.559999999999995"
      ]
     },
     "execution_count": 17,
     "metadata": {},
     "output_type": "execute_result"
    }
   ],
   "source": [
    "max_ctoc_change = max(abs(d0['Close'] - d1['Close']) for d0, d1 in zip(daily_datas, daily_datas[1:]))\n",
    "max_ctoc_change"
   ]
  },
  {
   "cell_type": "markdown",
   "metadata": {},
   "source": [
    "6 What was the average daily trading volume during this year?"
   ]
  },
  {
   "cell_type": "code",
   "execution_count": 18,
   "metadata": {
    "collapsed": false,
    "scrolled": true
   },
   "outputs": [
    {
     "data": {
      "text/plain": [
       "89124.33725490196"
      ]
     },
     "execution_count": 18,
     "metadata": {},
     "output_type": "execute_result"
    }
   ],
   "source": [
    "traded_vols = [daily_data['Traded Volume'] for daily_data in daily_datas]\n",
    "\n",
    "mean_traded_vols = sum(traded_vols) / len(traded_vols)\n",
    "mean_traded_vols"
   ]
  },
  {
   "cell_type": "markdown",
   "metadata": {},
   "source": [
    "7 (Optional) What was the median trading volume during this year. (Note: you may need to implement your own function for calculating the median.)"
   ]
  },
  {
   "cell_type": "code",
   "execution_count": 19,
   "metadata": {
    "collapsed": false
   },
   "outputs": [
    {
     "data": {
      "text/plain": [
       "TestResults(failed=0, attempted=2)"
      ]
     },
     "execution_count": 19,
     "metadata": {},
     "output_type": "execute_result"
    }
   ],
   "source": [
    "def median(some_list: list) -> float:\n",
    "    \"\"\"\n",
    "    Accepts a list of numbers\n",
    "    List cannot be empty\n",
    "    Returns the median\n",
    "    >>> median([8,3,4,5,6,7])\n",
    "    5.5\n",
    "    >>> median([8,9,3,4,5,6,7])\n",
    "    6\n",
    "    \"\"\"\n",
    "    # Make new list to prevent side effects\n",
    "    l = sorted(some_list[:])    \n",
    "    # Integer division rounds down\n",
    "    mid_ind = len(l) // 2\n",
    "\n",
    "    if len(some_list)%2 == 0:\n",
    "        median = (l[mid_ind-1] + l[mid_ind]) / 2\n",
    "    else:\n",
    "        median = l[mid_ind]\n",
    "    \n",
    "    return median\n",
    "\n",
    "doctest.testmod()"
   ]
  },
  {
   "cell_type": "code",
   "execution_count": 20,
   "metadata": {
    "collapsed": false
   },
   "outputs": [
    {
     "data": {
      "text/plain": [
       "76286.0"
      ]
     },
     "execution_count": 20,
     "metadata": {},
     "output_type": "execute_result"
    }
   ],
   "source": [
    "med_trad_vol = median(traded_vols)\n",
    "med_trad_vol"
   ]
  },
  {
   "cell_type": "code",
   "execution_count": null,
   "metadata": {
    "collapsed": true
   },
   "outputs": [],
   "source": []
  }
 ],
 "metadata": {
  "anaconda-cloud": {},
  "kernelspec": {
   "display_name": "Python [conda env:ana_py37]",
   "language": "python",
   "name": "conda-env-ana_py37-py"
  },
  "language_info": {
   "codemirror_mode": {
    "name": "ipython",
    "version": 3
   },
   "file_extension": ".py",
   "mimetype": "text/x-python",
   "name": "python",
   "nbconvert_exporter": "python",
   "pygments_lexer": "ipython3",
   "version": "3.7.2"
  }
 },
 "nbformat": 4,
 "nbformat_minor": 2
}
