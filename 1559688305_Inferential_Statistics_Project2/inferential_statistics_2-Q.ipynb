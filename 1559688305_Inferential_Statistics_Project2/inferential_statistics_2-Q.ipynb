{
 "cells": [
  {
   "cell_type": "markdown",
   "metadata": {},
   "source": [
    "# Inferential statistics II - Bootstrapping"
   ]
  },
  {
   "cell_type": "markdown",
   "metadata": {},
   "source": [
    "## Introduction"
   ]
  },
  {
   "cell_type": "markdown",
   "metadata": {},
   "source": [
    "In the previous exercises you performed frequentist calculations to perform inference from a sample of data. Such inference relies on theory largely developed from the 19th Century onwards that is subject to certain assumptions or theoretical limits. These are fine if those assumptions hold in your case, and what you want to do has a known theoretical distribution, for example the mean of a sampling distribution that we looked at."
   ]
  },
  {
   "cell_type": "markdown",
   "metadata": {},
   "source": [
    "In these exercises we are once again going to load in the medical charge data but this time we are going to make inferences about the population using bootstrapping, that is simulating repeated re-runs of an experiment. If frequentism is about using assumptions and theoretical results to calculate what we expect to happen were an experiment to be run again and again and again, then bootstrapping is about using computing power to essentially re-run the sample draw again and again and again to see what actually happens."
   ]
  },
  {
   "cell_type": "markdown",
   "metadata": {},
   "source": [
    "## Prerequisites"
   ]
  },
  {
   "cell_type": "markdown",
   "metadata": {},
   "source": [
    "Whilst these exercises do not strictly depend on these concepts, before working through them, you should have completed the preceding assignment and have a good understanding of such frequentist concepts as\n",
    "* the _z_-statistic\n",
    "* the _t_-statistic\n",
    "* the difference and relationship between the two\n",
    "* the Central Limit Theorem, its assumptions and consequences\n",
    "* how to estimate the population mean and standard deviation from a sample\n",
    "* the concept of a sampling distribution of a test statistic, particularly for the mean\n",
    "* how to combine these concepts to calculate confidence intervals and p-values\n",
    "* how those confidence intervals and p-values allow you to perform hypothesis (or A/B) tests"
   ]
  },
  {
   "cell_type": "markdown",
   "metadata": {},
   "source": [
    "To complete these exercises, you should have covered the material on how to calculate bootstrap replicates of summary statistics. Having an appreciation of what confidence intervals and p-values are will be helpful."
   ]
  },
  {
   "cell_type": "code",
   "execution_count": 1,
   "metadata": {
    "collapsed": true
   },
   "outputs": [],
   "source": [
    "import pandas as pd\n",
    "import numpy as np\n",
    "from numpy.random import seed\n",
    "import matplotlib.pyplot as plt"
   ]
  },
  {
   "cell_type": "markdown",
   "metadata": {},
   "source": [
    "## Medical charge data set"
   ]
  },
  {
   "cell_type": "code",
   "execution_count": 2,
   "metadata": {
    "collapsed": true
   },
   "outputs": [],
   "source": [
    "med_charges = pd.read_csv('data/insurance2.csv')"
   ]
  },
  {
   "cell_type": "code",
   "execution_count": 3,
   "metadata": {
    "collapsed": false
   },
   "outputs": [
    {
     "data": {
      "text/html": [
       "<div>\n",
       "<style scoped>\n",
       "    .dataframe tbody tr th:only-of-type {\n",
       "        vertical-align: middle;\n",
       "    }\n",
       "\n",
       "    .dataframe tbody tr th {\n",
       "        vertical-align: top;\n",
       "    }\n",
       "\n",
       "    .dataframe thead th {\n",
       "        text-align: right;\n",
       "    }\n",
       "</style>\n",
       "<table border=\"1\" class=\"dataframe\">\n",
       "  <thead>\n",
       "    <tr style=\"text-align: right;\">\n",
       "      <th></th>\n",
       "      <th>age</th>\n",
       "      <th>sex</th>\n",
       "      <th>bmi</th>\n",
       "      <th>children</th>\n",
       "      <th>smoker</th>\n",
       "      <th>region</th>\n",
       "      <th>charges</th>\n",
       "      <th>insuranceclaim</th>\n",
       "    </tr>\n",
       "  </thead>\n",
       "  <tbody>\n",
       "    <tr>\n",
       "      <th>0</th>\n",
       "      <td>19</td>\n",
       "      <td>0</td>\n",
       "      <td>27.900</td>\n",
       "      <td>0</td>\n",
       "      <td>1</td>\n",
       "      <td>3</td>\n",
       "      <td>16884.92400</td>\n",
       "      <td>1</td>\n",
       "    </tr>\n",
       "    <tr>\n",
       "      <th>1</th>\n",
       "      <td>18</td>\n",
       "      <td>1</td>\n",
       "      <td>33.770</td>\n",
       "      <td>1</td>\n",
       "      <td>0</td>\n",
       "      <td>2</td>\n",
       "      <td>1725.55230</td>\n",
       "      <td>1</td>\n",
       "    </tr>\n",
       "    <tr>\n",
       "      <th>2</th>\n",
       "      <td>28</td>\n",
       "      <td>1</td>\n",
       "      <td>33.000</td>\n",
       "      <td>3</td>\n",
       "      <td>0</td>\n",
       "      <td>2</td>\n",
       "      <td>4449.46200</td>\n",
       "      <td>0</td>\n",
       "    </tr>\n",
       "    <tr>\n",
       "      <th>3</th>\n",
       "      <td>33</td>\n",
       "      <td>1</td>\n",
       "      <td>22.705</td>\n",
       "      <td>0</td>\n",
       "      <td>0</td>\n",
       "      <td>1</td>\n",
       "      <td>21984.47061</td>\n",
       "      <td>0</td>\n",
       "    </tr>\n",
       "    <tr>\n",
       "      <th>4</th>\n",
       "      <td>32</td>\n",
       "      <td>1</td>\n",
       "      <td>28.880</td>\n",
       "      <td>0</td>\n",
       "      <td>0</td>\n",
       "      <td>1</td>\n",
       "      <td>3866.85520</td>\n",
       "      <td>1</td>\n",
       "    </tr>\n",
       "  </tbody>\n",
       "</table>\n",
       "</div>"
      ],
      "text/plain": [
       "   age  sex     bmi  children  smoker  region      charges  insuranceclaim\n",
       "0   19    0  27.900         0       1       3  16884.92400               1\n",
       "1   18    1  33.770         1       0       2   1725.55230               1\n",
       "2   28    1  33.000         3       0       2   4449.46200               0\n",
       "3   33    1  22.705         0       0       1  21984.47061               0\n",
       "4   32    1  28.880         0       0       1   3866.85520               1"
      ]
     },
     "execution_count": 3,
     "metadata": {},
     "output_type": "execute_result"
    }
   ],
   "source": [
    "med_charges.head()"
   ]
  },
  {
   "cell_type": "markdown",
   "metadata": {},
   "source": [
    "In the previous assignment, you used the frequentist approach to estimate the lower limit for the 95% confidence interval on the mean hospital charge. This approach relies on statistical theory that has been developed over the years and is also limited to statistics for which theoretical results on the sampling distribution exist. These results are remarkably useful and applicable much of the time and under a surprisingly wide range of conditions."
   ]
  },
  {
   "cell_type": "markdown",
   "metadata": {},
   "source": [
    "Having calculated the 95% lower confidence interval using frequentist theory in the previous exercise, you would like to verify your calculations and check you get consistent results without making the assumptions required before. After all, the distribution of charges really was very non-normal."
   ]
  },
  {
   "cell_type": "markdown",
   "metadata": {},
   "source": [
    "__Q:__ Use bootstrap sampling to estimate the same 95% confidence interval lower limit as before."
   ]
  },
  {
   "cell_type": "markdown",
   "metadata": {},
   "source": [
    "__A:__"
   ]
  },
  {
   "cell_type": "code",
   "execution_count": 4,
   "metadata": {
    "collapsed": false
   },
   "outputs": [
    {
     "data": {
      "text/plain": [
       "array([16884.924  ,  1725.5523 ,  4449.462  , 21984.47061,  3866.8552 ])"
      ]
     },
     "execution_count": 4,
     "metadata": {},
     "output_type": "execute_result"
    }
   ],
   "source": [
    "charges = med_charges['charges'].values\n",
    "charges[0:5]"
   ]
  },
  {
   "cell_type": "code",
   "execution_count": 5,
   "metadata": {
    "collapsed": false
   },
   "outputs": [
    {
     "name": "stdout",
     "output_type": "stream",
     "text": [
      "Lower 95% CI: 12624.862119128531\n",
      "Upper 95% CI: 13918.009299969919\n"
     ]
    }
   ],
   "source": [
    "seed(47)\n",
    "n_reps = 10000\n",
    "bs_means = []\n",
    "for _ in range(n_reps):\n",
    "    # Select samples of the same size from the original sample\n",
    "    # We select with replacement\n",
    "    # Calculate the mean of each sample\n",
    "    bs_means.append(np.mean(np.random.choice(charges, size=len(charges))))\n",
    "# Compute the 95% confidence interval: conf_int\n",
    "conf_int = np.percentile(bs_means, [2.5, 97.5])\n",
    "print(f'Lower 95% CI: {conf_int[0]}')\n",
    "print(f'Upper 95% CI: {conf_int[1]}')"
   ]
  },
  {
   "cell_type": "markdown",
   "metadata": {},
   "source": [
    "If you performed 10000 replicates immediately after setting the random seed to 47, you should get the value 12724 here, which compares very well with the value 12725 obtained using the _t_-distribution confidence interval previously. It is a most pleasant result to see the predictions of classical frequentist theory match with results that are now possible through the number-crunching ability of computers."
   ]
  },
  {
   "cell_type": "markdown",
   "metadata": {},
   "source": [
    "---\n",
    "\n",
    "#### Note to Mentor\n",
    "\n",
    "I am not getting 12724 for the lower 95% confidence interval\n",
    "\n",
    "I am getting 12624, and I cannot see any error in my methodology\n",
    "\n",
    "---"
   ]
  },
  {
   "cell_type": "markdown",
   "metadata": {},
   "source": [
    "Remember in the previous exercise set, we saw there are two ways of performing a _t_-test from a sample, depending on whether we can assume the groups have equal variance or not. We can actually easily test this using the bootstrap!"
   ]
  },
  {
   "cell_type": "markdown",
   "metadata": {},
   "source": [
    "__Q:__ Calculate the 95% confidence interval for the difference between the standard deviations of insurance and non-insurance claim charges (insured - non-insured). Calculate the differences over 10000 replicates. Plot the histogram of values and mark the locations of the percentiles. State the null and alternative hypothesis and comment on whether you would retain or reject the null hypothesis in this case and why."
   ]
  },
  {
   "cell_type": "markdown",
   "metadata": {},
   "source": [
    "__A:__"
   ]
  },
  {
   "cell_type": "code",
   "execution_count": 6,
   "metadata": {
    "collapsed": false
   },
   "outputs": [
    {
     "name": "stdout",
     "output_type": "stream",
     "text": [
      "[16884.924   1725.5523  3866.8552  8240.5896  2721.3208]\n",
      "[ 4449.462   21984.47061  3756.6216   7281.5056   6406.4107 ]\n"
     ]
    }
   ],
   "source": [
    "charges_ins = med_charges[med_charges['insuranceclaim'] == 1]['charges'].values\n",
    "charges_noins = med_charges[med_charges['insuranceclaim'] == 0]['charges'].values\n",
    "print(charges_ins[0:5])\n",
    "print(charges_noins[0:5])"
   ]
  },
  {
   "cell_type": "code",
   "execution_count": 7,
   "metadata": {
    "collapsed": true
   },
   "outputs": [],
   "source": [
    "def diff_of_stdevs(arr1, arr2):\n",
    "    \"\"\"\n",
    "    Accepts two standard deviations as floats\n",
    "    Returns the difference between standard deviations\n",
    "    \"\"\"\n",
    "    return np.std(arr1, ddof=1) - np.std(arr2, ddof=1)\n",
    "\n",
    "def permutation_sample(data1, data2):\n",
    "    \"\"\"Generate a permutation sample from two data sets.\"\"\"\n",
    "\n",
    "    # Concatenate the data sets: data\n",
    "    data = np.concatenate((data1, data2))\n",
    "\n",
    "    # Permute the concatenated array: permuted_data\n",
    "    permuted_data = np.random.permutation(data)\n",
    "\n",
    "    # Split the permuted array into two: perm_sample_1, perm_sample_2\n",
    "    perm_sample_1 = permuted_data[:len(data1)]\n",
    "    perm_sample_2 = permuted_data[len(data1):]\n",
    "\n",
    "    return perm_sample_1, perm_sample_2\n",
    "\n",
    "def draw_perm_reps(data_1, data_2, func, size=1):\n",
    "    \"\"\"Generate multiple permutation replicates.\"\"\"\n",
    "\n",
    "    # Initialize array of replicates: perm_replicates\n",
    "    perm_replicates = np.empty(size)\n",
    "\n",
    "    for i in range(size):\n",
    "        # Generate permutation sample\n",
    "        perm_sample_1, perm_sample_2 = permutation_sample(data_1, data_2)\n",
    "\n",
    "        # Compute the test statistic\n",
    "        perm_replicates[i] = func(perm_sample_1, perm_sample_2)\n",
    "\n",
    "    return perm_replicates"
   ]
  },
  {
   "cell_type": "code",
   "execution_count": 8,
   "metadata": {
    "collapsed": false
   },
   "outputs": [
    {
     "data": {
      "text/plain": [
       "array([-609.516403  ,  -22.1703422 ,  108.70568739,  457.66825466,\n",
       "       -188.33739134])"
      ]
     },
     "execution_count": 8,
     "metadata": {},
     "output_type": "execute_result"
    }
   ],
   "source": [
    "seed(47)\n",
    "# Draw 10,000 permutation replicates: perm_replicates\n",
    "size=10000\n",
    "perm_replicates = draw_perm_reps(charges_ins, charges_noins, diff_of_stdevs, size=size)\n",
    "perm_replicates[0:5]"
   ]
  },
  {
   "cell_type": "code",
   "execution_count": 9,
   "metadata": {
    "collapsed": false
   },
   "outputs": [
    {
     "name": "stdout",
     "output_type": "stream",
     "text": [
      "-0.6062271636070733\n",
      "627.9320507440277\n"
     ]
    }
   ],
   "source": [
    "print(np.mean(perm_replicates))\n",
    "print(np.std(perm_replicates))"
   ]
  },
  {
   "cell_type": "code",
   "execution_count": 10,
   "metadata": {
    "collapsed": false
   },
   "outputs": [
    {
     "name": "stdout",
     "output_type": "stream",
     "text": [
      "Lower 95% CI: -1225.8896621419356\n",
      "Upper 95% CI: 1245.4843695294596\n"
     ]
    }
   ],
   "source": [
    "# Compute the 95% confidence interval: conf_int\n",
    "conf_int = np.percentile(perm_replicates, [2.5, 97.5])\n",
    "print(f'Lower 95% CI: {conf_int[0]}')\n",
    "print(f'Upper 95% CI: {conf_int[1]}')"
   ]
  },
  {
   "cell_type": "code",
   "execution_count": 11,
   "metadata": {
    "collapsed": false
   },
   "outputs": [
    {
     "data": {
      "text/plain": [
       "7599.418291990396"
      ]
     },
     "execution_count": 11,
     "metadata": {},
     "output_type": "execute_result"
    }
   ],
   "source": [
    "# Compute difference of mean impact force from experiment: empirical_diff_means\n",
    "empirical_diff_stdevs = diff_of_stdevs(charges_ins, charges_noins)\n",
    "empirical_diff_stdevs"
   ]
  },
  {
   "cell_type": "code",
   "execution_count": 12,
   "metadata": {
    "collapsed": false
   },
   "outputs": [
    {
     "data": {
      "image/png": "[encoded data removed]",
      "text/plain": [
       "<Figure size 1008x576 with 1 Axes>"
      ]
     },
     "metadata": {
      "needs_background": "light"
     },
     "output_type": "display_data"
    }
   ],
   "source": [
    "fig, ax = plt.subplots(figsize=(14,8))\n",
    "ax.hist(perm_replicates, bins = 50)\n",
    "ax.axvline(conf_int[0], color='red', linestyle='--', label= f\"lower 95% CI {round(conf_int[0],0)}\")\n",
    "ax.axvline(conf_int[1], color='red', linestyle='--', label= f\"upper 95% CI {round(conf_int[1],0)}\")\n",
    "ax.axvline(empirical_diff_stdevs, color='red', linestyle='-', label= f\"Empirical Diff of Standard Deviations\\\n",
    "{round(empirical_diff_stdevs,0)}\")\n",
    "ax.set_ylabel('Frequency')\n",
    "ax.set_xlabel('Standard Deviation of Insured Charges - Standard Deviation of Non-Insured Charges')\n",
    "ax.set_title(f'Bootstrap Distribution of Difference in Standard Deviations\\n\\\n",
    "between Insured and Non-Insured Hospital Charges\\n Replicates: {n_reps}')\n",
    "plt.legend()\n",
    "plt.show();"
   ]
  },
  {
   "cell_type": "markdown",
   "metadata": {},
   "source": [
    "Null Hypothesis: There is no difference between the standard deviation of insured medical charges, and the standard deviation of non-insured medical charges i.e the standard deviations of both groups are the same\n",
    "\n",
    "Alternative Hypothesis: There is a difference between the standard deviation of insured medical charges, and non-insured medical charges\n",
    "\n",
    "I would reject the null hypothesis because the 95% Confidence Interval for the difference in standard deviations (which assumes both groups have the same standard deviation) does not include the observed value (for difference in standard deviations) from the data. In fact the empirical difference is way higher than the bootstrapped histogram upper value. There is only a very remote chance that we would see this difference due to sampling variation."
   ]
  },
  {
   "cell_type": "markdown",
   "metadata": {},
   "source": [
    "### Alternative - Is this Valid?"
   ]
  },
  {
   "cell_type": "code",
   "execution_count": 13,
   "metadata": {
    "collapsed": false
   },
   "outputs": [
    {
     "name": "stdout",
     "output_type": "stream",
     "text": [
      "Lower 95% CI: 6683.99830926605\n",
      "Upper 95% CI: 8506.649041575301\n"
     ]
    }
   ],
   "source": [
    "def diff_of_stdevs(arr1, arr2):\n",
    "    \"\"\"\n",
    "    Accepts two standard deviations as floats\n",
    "    Returns the difference between standard deviations\n",
    "    \"\"\"\n",
    "    return np.std(arr1, ddof=1) - np.std(arr2, ddof=1)\n",
    "\n",
    "seed(47)\n",
    "n_reps = 10000\n",
    "bs_diff_of_stdevs = []\n",
    "for _ in range(n_reps):\n",
    "    # Select samples of the same size from the original sample\n",
    "    # We select with replacement\n",
    "    # Calculate the mean of each sample\n",
    "    bs_ins = np.random.choice(charges_ins, size=len(charges_ins))\n",
    "    bs_noins = np.random.choice(charges_noins, size=len(charges_noins))\n",
    "    bs_diff_of_stdevs.append(diff_of_stdevs(bs_ins, bs_noins))\n",
    "    # Compute the 95% confidence interval: conf_int\n",
    "conf_int = np.percentile(bs_diff_of_stdevs, [2.5, 97.5])\n",
    "print(f'Lower 95% CI: {conf_int[0]}')\n",
    "print(f'Upper 95% CI: {conf_int[1]}')"
   ]
  },
  {
   "cell_type": "code",
   "execution_count": 14,
   "metadata": {
    "collapsed": false
   },
   "outputs": [
    {
     "data": {
      "image/png": "[encoded data removed]",
      "text/plain": [
       "<Figure size 1008x576 with 1 Axes>"
      ]
     },
     "metadata": {
      "needs_background": "light"
     },
     "output_type": "display_data"
    }
   ],
   "source": [
    "fig, ax = plt.subplots(figsize=(14,8))\n",
    "ax.hist(bs_diff_of_stdevs, bins = 50)\n",
    "ax.axvline(conf_int[0], color='red', linestyle='--', label= f\"lower 95% CI {round(conf_int[0],0)}\")\n",
    "ax.axvline(conf_int[1], color='red', linestyle='--', label= f\"upper 95% CI {round(conf_int[1],0)}\")\n",
    "ax.set_ylabel('Frequency')\n",
    "ax.set_xlabel('Standard Deviation of Insured Charges - Standard Deviation of Non-Insured Charges')\n",
    "ax.set_title(f'Bootstrap Distribution of Difference in Standard Deviations\\n\\\n",
    "between Insured and Non-Insured Hospital Charges\\n Replicates: {n_reps}')\n",
    "plt.legend()\n",
    "plt.show();"
   ]
  },
  {
   "cell_type": "markdown",
   "metadata": {},
   "source": [
    "Null Hypothesis: There is no difference between the standard deviation of insured medical charges, and the standard deviation of non-insured medical charges i.e the standard deviations of both groups are the same\n",
    "\n",
    "Alternative Hypothesis: There is a difference between the standard deviation of insured medical charges, and non-insured medical charges\n",
    "\n",
    "I would reject the null hypothesis because the 95% Confidence Interval for the difference in standard deviations (which assumes both groups have the same standard deviation) does not include 0."
   ]
  },
  {
   "cell_type": "markdown",
   "metadata": {},
   "source": [
    "## Confidence interval and p-value"
   ]
  },
  {
   "cell_type": "markdown",
   "metadata": {},
   "source": [
    "The confidence interval above is often a useful quantity to estimate. If we wish to limit our expected probability of making a Type II error (where we wrongly reject the null hypothesis, and it is, instead, true) to $\\alpha$, the associated confidence interval is our estimate of the interval within which we expect the true population value to be found $100\\times(1 - \\alpha)$% of the time we do this test. In the above we performed bootstrap replicates to estimate the interval and reject the null hypothesis if this interval did not contain zero. You will sometimes see such an interval reported in the output of statistical functions.\n",
    "\n",
    "The partner of the confidence interval is the p-value. The p-value and the confidence interval are linked through our choice of $\\alpha$. The p-value tells us how likely it is, under the null hypothesis, to get an outcome at least as extreme as what was observed. If this fails to reach the level of our _pre-specified_ $\\alpha$, we decide the null hypothesis is sufficiently unlikely to be true and thus reject it. To calculate this p-value via the bootstrap, we have to put ourselves in a position where we are simulating the null hypothesis being true and then calculate the fraction of times we observe a result at least as extreme as that actually observed.\n",
    "\n",
    "Remember how, previously, you used the _t_-test to calculate the p-value for the observed difference between the means of insured and non-insured medical cases. We're now going to repeat this but using the bootstrap.\n",
    "\n",
    "__Q:__ Perform a bootstrapped hypothesis test at the 5% significance level ($\\alpha = 0.05$) to calculate the p-value of the observed difference between insurance and non-insurance charges, state your null and alternative hypotheses and whether you retain or reject the null hypothesis for the given significance level."
   ]
  },
  {
   "cell_type": "markdown",
   "metadata": {},
   "source": [
    "__A:__"
   ]
  },
  {
   "cell_type": "markdown",
   "metadata": {},
   "source": [
    "Null Hypothesis: The mean of insured charges is the same as the mean of non-insured charges\n",
    "\n",
    "\n",
    "Alternative Hypothesis: The mean of insured charges is not the same as the mean of non-insured charges"
   ]
  },
  {
   "cell_type": "code",
   "execution_count": 15,
   "metadata": {
    "collapsed": true
   },
   "outputs": [],
   "source": [
    "def bootstrap_replicate_1d(data, func):\n",
    "    return func(np.random.choice(data, size=len(data)))\n",
    "\n",
    "def draw_bs_reps(data, func, size=1):\n",
    "    \"\"\"Draw bootstrap replicates.\"\"\"\n",
    "    # Initialize array of replicates: bs_replicates\n",
    "    bs_replicates = np.empty(size)\n",
    "    # Generate replicates\n",
    "    for i in range(size):\n",
    "        bs_replicates[i] = bootstrap_replicate_1d(data, func)\n",
    "\n",
    "    return bs_replicates"
   ]
  },
  {
   "cell_type": "code",
   "execution_count": 16,
   "metadata": {
    "collapsed": false
   },
   "outputs": [
    {
     "data": {
      "text/plain": [
       "7602.506384231372"
      ]
     },
     "execution_count": 16,
     "metadata": {},
     "output_type": "execute_result"
    }
   ],
   "source": [
    "empirical_diff_means = np.mean(charges_ins) - np.mean(charges_noins)\n",
    "empirical_diff_means"
   ]
  },
  {
   "cell_type": "code",
   "execution_count": 17,
   "metadata": {
    "collapsed": false
   },
   "outputs": [
    {
     "data": {
      "text/plain": [
       "array([1161.81656031, -941.9913804 , -601.69997652,  241.4883205 ,\n",
       "         77.35688928])"
      ]
     },
     "execution_count": 17,
     "metadata": {},
     "output_type": "execute_result"
    }
   ],
   "source": [
    "# Compute mean of pooled data: mean_count\n",
    "mean_charge = np.mean(np.concatenate((charges_ins, charges_noins)))\n",
    "\n",
    "# Generate shifted data sets - This is required so that everything has a common mean\n",
    "charges_ins_shifted = charges_ins - np.mean(charges_ins) + mean_charge\n",
    "charges_noins_shifted = charges_noins - np.mean(charges_noins) + mean_charge\n",
    "\n",
    "# Generate bootstrap replicates\n",
    "bs_reps_charges_ins = draw_bs_reps(charges_ins_shifted,\n",
    "                               np.mean, size=10000)\n",
    "bs_reps_charges_noins = draw_bs_reps(charges_noins_shifted,\n",
    "                               np.mean, size=10000)\n",
    "\n",
    "# Get replicates of difference of means: bs_replicates\n",
    "bs_replicates = bs_reps_charges_ins - bs_reps_charges_noins\n",
    "\n",
    "bs_replicates[0:5]"
   ]
  },
  {
   "cell_type": "code",
   "execution_count": 18,
   "metadata": {
    "collapsed": false
   },
   "outputs": [
    {
     "name": "stdout",
     "output_type": "stream",
     "text": [
      "p-value = 0.0000000000\n"
     ]
    }
   ],
   "source": [
    "# Compute and print p-value: p\n",
    "p = np.sum(bs_replicates >= empirical_diff_means) / len(bs_replicates)\n",
    "print(f'p-value = {p:.10f}')"
   ]
  },
  {
   "cell_type": "markdown",
   "metadata": {},
   "source": [
    "__Q:__ To put the above result in perspective, plot the histogram of your bootstrapped differences along with lines marking the locations of the observed difference. (Why would we plot more than one line, given that we only have one observed difference?)"
   ]
  },
  {
   "cell_type": "code",
   "execution_count": 19,
   "metadata": {
    "collapsed": false,
    "scrolled": true
   },
   "outputs": [
    {
     "data": {
      "image/png": "[encoded data removed]",
      "text/plain": [
       "<Figure size 1008x576 with 1 Axes>"
      ]
     },
     "metadata": {
      "needs_background": "light"
     },
     "output_type": "display_data"
    }
   ],
   "source": [
    "fig, ax = plt.subplots(figsize=(14,8))\n",
    "ax.hist(bs_replicates, bins = 50)\n",
    "ax.axvline(empirical_diff_means, color='red', linestyle='--', label= f\"Observed Difference of Means: \\\n",
    "{empirical_diff_means}\")\n",
    "ax.axvline(-empirical_diff_means, color='red', linestyle='--', label= f\"- Observed Difference of Means: \\\n",
    "{-empirical_diff_means}\")\n",
    "#ax.axvline(conf_int[1], color='red', linestyle='--', label= f\"upper 95% CI {round(conf_int[1],0)}\")\n",
    "ax.set_ylabel('Frequency')\n",
    "ax.set_xlabel('Difference of Shifted Means\\n\\\n",
    "# Mean of Insured Charges - Mean Deviation of Non-Insured Charges')\n",
    "ax.set_title(f'Bootstrap Distribution of Difference of Means\\n\\\n",
    "Mean of Insured Charges - Mean of Non-Insured Charges\\n Replicates: {n_reps}')\n",
    "plt.legend()\n",
    "plt.show();"
   ]
  },
  {
   "cell_type": "markdown",
   "metadata": {},
   "source": [
    "__A:__"
   ]
  },
  {
   "cell_type": "markdown",
   "metadata": {},
   "source": [
    "Why would we plot more than one line?\n",
    "\n",
    "Because we are dealing with a difference, and if the relevant arrays are reversed, we could be looking for a negative difference"
   ]
  },
  {
   "cell_type": "markdown",
   "metadata": {},
   "source": [
    "__Q:__ Compare your p-value above with that obtained using the _t_-test function in the previous assignment. Do you think you would want to try to perform enough bootstrap replicates to observe a random difference as large as that we did observe?"
   ]
  },
  {
   "cell_type": "markdown",
   "metadata": {},
   "source": [
    "__A:__\n",
    "\n",
    "The p value is very low - same as the previous assignment\n",
    "\n",
    "I would not want to perform enough bootstrap replicates to eventually get a random difference as the one we obnserved. I would have thought this would take a long time, and would not be guaranteed to return a value as large as the observed difference. The observed value is so far away from the distribution - it is about 2 distribution widths away from the end of the distribution."
   ]
  },
  {
   "cell_type": "markdown",
   "metadata": {},
   "source": [
    "__Q:__ Remember the two variants of the _t_-test we performed in the previous assignment. Which one would you use now?"
   ]
  },
  {
   "cell_type": "markdown",
   "metadata": {},
   "source": [
    "__A:__\n",
    "\n",
    "I would use `ttest_ind(insured, not_insured, equal_var=False)` because the bootstrap techniques in this notebook indicate the variances are different"
   ]
  },
  {
   "cell_type": "markdown",
   "metadata": {},
   "source": [
    "__Q:__ If, instead of being asked whether the means of two groups were different, you were working with an ad-recommender team who wanted to release a new recommendation algorithm, and you were looking at click-through rate both for the current algorithm (call it A) and from trials of their new algorithm (call it B), would you perform a two-sided test as above? What would be your null and alternative hypotheses and what would be the real world consequence of rejecting the null hypothesis?"
   ]
  },
  {
   "cell_type": "markdown",
   "metadata": {},
   "source": [
    "__A:__\n",
    "\n",
    " I don't think I would perform a test the same as above.\n",
    " If there was cost involved in rolling out B, then I would test whether the click through rate of B was higher than A, rather than if there was a difference. The Company would not be considering option B, unless they thought it would increase click-through rates. Therefore, this is what I would test\n",
    " \n",
    " Null Hypothesis:\n",
    " Mean clickthrough rate B <= Mean Clickthrough rate for A\n",
    " \n",
    " Alternative Hypothesis: Mean Clickthrough Rate for B > Mean Clickthrough Rate for A\n",
    " \n",
    " Real world consequence of rejecting the null hypothesis would be that the Company could consider further trials, or look into the costs of rolling out option B "
   ]
  },
  {
   "cell_type": "markdown",
   "metadata": {},
   "source": [
    "# Learning outcomes\n",
    "\n",
    "You've previously applied frequentist methods to calculate confidence intervals, p-values, and perform hypothesis tests. Frequentist methods use theoretical results to calculate what we expect would happen if experiments were to be run again and again and again. Now you've seen how you can do the same things using the bootstrap approach, which does not rely on such theory, and attendant assumptions, but instead literally does run experiments again and again and again.\n",
    "\n",
    "In these exercises, you have\n",
    "* calculated the same confidence interval lower limit as you did previously\n",
    "* tested the assumption that the variances of the two groups (insured vs. non-insured) were equal - something a bit harder to do using the frequentist method because of the nature of the sampling distribution for variance\n",
    "* calculated the p-value for the difference between the means of the two groups and compared with the result obtained using the previous frequentist approach\n",
    "\n",
    "You are now well equipped to apply the bootstrap approach to a wide variety of problems. Just think about what conditions you wish to recreate in your simulated reruns."
   ]
  },
  {
   "cell_type": "code",
   "execution_count": null,
   "metadata": {
    "collapsed": true
   },
   "outputs": [],
   "source": []
  }
 ],
 "metadata": {
  "anaconda-cloud": {},
  "kernelspec": {
   "display_name": "Python [conda env:ana_py37]",
   "language": "python",
   "name": "conda-env-ana_py37-py"
  },
  "language_info": {
   "codemirror_mode": {
    "name": "ipython",
    "version": 3
   },
   "file_extension": ".py",
   "mimetype": "text/x-python",
   "name": "python",
   "nbconvert_exporter": "python",
   "pygments_lexer": "ipython3",
   "version": "3.7.2"
  }
 },
 "nbformat": 4,
 "nbformat_minor": 2
}
